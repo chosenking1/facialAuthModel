{
 "nbformat": 4,
 "nbformat_minor": 0,
 "metadata": {
  "colab": {
   "name": "inference.ipynb",
   "version": "0.3.2",
   "provenance": [],
   "include_colab_link": true
  },
  "kernelspec": {
   "display_name": "Python 3",
   "language": "python",
   "name": "python3"
  }
 },
 "cells": [
  {
   "cell_type": "markdown",
   "metadata": {
    "id": "view-in-github",
    "colab_type": "text",
    "pycharm": {
     "name": "#%% md\n"
    }
   },
   "source": [
    "<a href=\"https://colab.research.google.com/github/sthalles/face-similarity/blob/master/inference.ipynb\" target=\"_parent\"><img src=\"https://colab.research.google.com/assets/colab-badge.svg\" alt=\"Open In Colab\"/></a>"
   ]
  },
  {
   "metadata": {
    "id": "L7qXulgIEz1S",
    "colab_type": "code",
    "colab": {},
    "pycharm": {
     "name": "#%%\n"
    }
   },
   "cell_type": "code",
   "source": [
    "# if running locally, comment these lines\n",
    "# !pip uninstall tensorflow\n",
    "# !pip install tensorflow==1.10.1"
   ],
   "execution_count": 9,
   "outputs": []
  },
  {
   "metadata": {
    "id": "CiQ4JfXOCOln",
    "colab_type": "code",
    "colab": {},
    "pycharm": {
     "name": "#%%\n"
    }
   },
   "cell_type": "code",
   "source": [
    "import tensorflow as tf\n",
    "\n",
    "print(tf.__version__)\n",
    "# tf.enable_eager_execution()"
   ],
   "execution_count": 10,
   "outputs": [
    {
     "name": "stdout",
     "output_type": "stream",
     "text": [
      "2.10.0\n"
     ]
    }
   ]
  },
  {
   "metadata": {
    "id": "tQP-RMW-_VWg",
    "colab_type": "code",
    "colab": {},
    "pycharm": {
     "name": "#%%\n"
    }
   },
   "cell_type": "code",
   "source": [
    "# if running locally, comment these lines\n",
    "# !wget https://www.dropbox.com/s/4tjix8rhyzxpc28/dataset.tar.gz\n",
    "# !wget https://www.dropbox.com/s/zj1v8n5href2mtu/tboard_logs.tar.gz\n",
    "# !tar -xvzf dataset.tar.gz\n",
    "# !tar -xvzf tboard_logs.tar.gz"
   ],
   "execution_count": 11,
   "outputs": []
  },
  {
   "metadata": {
    "id": "HWvDSMxt_-n2",
    "colab_type": "code",
    "colab": {},
    "pycharm": {
     "name": "#%%\n"
    }
   },
   "cell_type": "code",
   "source": [
    "# if running locally, comment these lines\n",
    "# !mkdir src\n",
    "# !wget https://raw.githubusercontent.com/sthalles/face-similarity/master/src/contrastive.py\n",
    "# !wget https://raw.githubusercontent.com/sthalles/face-similarity/master/src/cyclical_lr.py\n",
    "# !wget https://raw.githubusercontent.com/sthalles/face-similarity/master/src/pre_processing.py\n",
    "# !wget https://raw.githubusercontent.com/sthalles/face-similarity/master/src/utils.py\n",
    "# !mv contrastive.py ./src/\n",
    "# !mv cyclical_lr.py ./src/\n",
    "# !mv pre_processing.py ./src/\n",
    "# !mv utils.py ./src/"
   ],
   "execution_count": 12,
   "outputs": []
  },
  {
   "metadata": {
    "id": "H3ci1KMnDMn5",
    "colab_type": "code",
    "colab": {},
    "pycharm": {
     "name": "#%%\n"
    }
   },
   "cell_type": "code",
   "source": [
    "# if running locally, comment these lines\n",
    "# !mkdir model\n",
    "# !wget https://raw.githubusercontent.com/sthalles/face-similarity/master/model/densenet.py\n",
    "# !mv densenet.py ./model/"
   ],
   "execution_count": 17,
   "outputs": [
    {
     "name": "stderr",
     "output_type": "stream",
     "text": [
      "'wget' is not recognized as an internal or external command,\n",
      "operable program or batch file.\n",
      "'mv' is not recognized as an internal or external command,\n",
      "operable program or batch file.\n"
     ]
    }
   ]
  },
  {
   "metadata": {
    "id": "O7oM-tSY_BUq",
    "colab_type": "code",
    "colab": {},
    "pycharm": {
     "name": "#%%\n"
    }
   },
   "cell_type": "code",
   "source": [
    "import os\n",
    "# from model.densenet import DenseNet\n",
    "from model.densenet import DenseNet\n",
    "from src.pre_processing import *\n",
    "import matplotlib.pyplot as plt\n",
    "from src.contrastive import contrastive_loss\n",
    "import json\n",
    "from src.utils import Dotdict"
   ],
   "execution_count": 23,
   "outputs": [
    {
     "ename": "ModuleNotFoundError",
     "evalue": "No module named 'model.densenet'",
     "output_type": "error",
     "traceback": [
      "\u001B[1;31m---------------------------------------------------------------------------\u001B[0m",
      "\u001B[1;31mModuleNotFoundError\u001B[0m                       Traceback (most recent call last)",
      "Input \u001B[1;32mIn [23]\u001B[0m, in \u001B[0;36m<cell line: 3>\u001B[1;34m()\u001B[0m\n\u001B[0;32m      1\u001B[0m \u001B[38;5;28;01mimport\u001B[39;00m \u001B[38;5;21;01mos\u001B[39;00m\n\u001B[0;32m      2\u001B[0m \u001B[38;5;66;03m# from model.densenet import DenseNet\u001B[39;00m\n\u001B[1;32m----> 3\u001B[0m \u001B[38;5;28;01mfrom\u001B[39;00m \u001B[38;5;21;01mmodel\u001B[39;00m\u001B[38;5;21;01m.\u001B[39;00m\u001B[38;5;21;01mdensenet\u001B[39;00m \u001B[38;5;28;01mimport\u001B[39;00m DenseNet\n\u001B[0;32m      4\u001B[0m \u001B[38;5;28;01mfrom\u001B[39;00m \u001B[38;5;21;01msrc\u001B[39;00m\u001B[38;5;21;01m.\u001B[39;00m\u001B[38;5;21;01mpre_processing\u001B[39;00m \u001B[38;5;28;01mimport\u001B[39;00m \u001B[38;5;241m*\u001B[39m\n\u001B[0;32m      5\u001B[0m \u001B[38;5;28;01mimport\u001B[39;00m \u001B[38;5;21;01mmatplotlib\u001B[39;00m\u001B[38;5;21;01m.\u001B[39;00m\u001B[38;5;21;01mpyplot\u001B[39;00m \u001B[38;5;28;01mas\u001B[39;00m \u001B[38;5;21;01mplt\u001B[39;00m\n",
      "\u001B[1;31mModuleNotFoundError\u001B[0m: No module named 'model.densenet'"
     ]
    }
   ]
  },
  {
   "metadata": {
    "id": "CnAUUFOp_BUw",
    "colab_type": "code",
    "colab": {},
    "pycharm": {
     "name": "#%%\n"
    }
   },
   "cell_type": "code",
   "source": [
    "work_dir = './tboard_logs'\n",
    "model_id = 31911\n",
    "test_dataset_path = './dataset/test_v2.tfrecords'"
   ],
   "execution_count": 19,
   "outputs": []
  },
  {
   "metadata": {
    "id": "IyP4LZWX_BUy",
    "colab_type": "code",
    "colab": {},
    "pycharm": {
     "name": "#%%\n"
    }
   },
   "cell_type": "code",
   "source": [
    "checkpoint_dir = os.path.join(work_dir, str(model_id))\n",
    "\n",
    "# load training metadata (setup path if necessary)\n",
    "with open(checkpoint_dir + '/meta.json', 'r') as fp:\n",
    "    training_args = Dotdict(json.load(fp))"
   ],
   "execution_count": 22,
   "outputs": [
    {
     "ename": "FileNotFoundError",
     "evalue": "[Errno 2] No such file or directory: './tboard_logs\\\\31911/meta.json'",
     "output_type": "error",
     "traceback": [
      "\u001B[1;31m---------------------------------------------------------------------------\u001B[0m",
      "\u001B[1;31mFileNotFoundError\u001B[0m                         Traceback (most recent call last)",
      "Input \u001B[1;32mIn [22]\u001B[0m, in \u001B[0;36m<cell line: 4>\u001B[1;34m()\u001B[0m\n\u001B[0;32m      1\u001B[0m checkpoint_dir \u001B[38;5;241m=\u001B[39m os\u001B[38;5;241m.\u001B[39mpath\u001B[38;5;241m.\u001B[39mjoin(work_dir, \u001B[38;5;28mstr\u001B[39m(model_id))\n\u001B[0;32m      3\u001B[0m \u001B[38;5;66;03m# load training metadata (setup path if necessary)\u001B[39;00m\n\u001B[1;32m----> 4\u001B[0m \u001B[38;5;28;01mwith\u001B[39;00m \u001B[38;5;28;43mopen\u001B[39;49m\u001B[43m(\u001B[49m\u001B[43mcheckpoint_dir\u001B[49m\u001B[43m \u001B[49m\u001B[38;5;241;43m+\u001B[39;49m\u001B[43m \u001B[49m\u001B[38;5;124;43m'\u001B[39;49m\u001B[38;5;124;43m/meta.json\u001B[39;49m\u001B[38;5;124;43m'\u001B[39;49m\u001B[43m,\u001B[49m\u001B[43m \u001B[49m\u001B[38;5;124;43m'\u001B[39;49m\u001B[38;5;124;43mr\u001B[39;49m\u001B[38;5;124;43m'\u001B[39;49m\u001B[43m)\u001B[49m \u001B[38;5;28;01mas\u001B[39;00m fp:\n\u001B[0;32m      5\u001B[0m     training_args \u001B[38;5;241m=\u001B[39m Dotdict(json\u001B[38;5;241m.\u001B[39mload(fp))\n",
      "\u001B[1;31mFileNotFoundError\u001B[0m: [Errno 2] No such file or directory: './tboard_logs\\\\31911/meta.json'"
     ]
    }
   ]
  },
  {
   "metadata": {
    "id": "mG39k2Mo_BU0",
    "colab_type": "code",
    "colab": {},
    "pycharm": {
     "name": "#%%\n"
    }
   },
   "cell_type": "code",
   "source": [
    "tfe = tf.contrib.eager\n",
    "test_filenames = [test_dataset_path]\n",
    "test_dataset = tf.data.TFRecordDataset(test_filenames)\n",
    "test_dataset = test_dataset.map(tf_record_parser)\n",
    "test_dataset = test_dataset.map(random_resize_and_crop)\n",
    "test_dataset = test_dataset.map(normalizer)\n",
    "test_dataset = test_dataset.shuffle(1000)\n",
    "test_dataset = test_dataset.batch(8)"
   ],
   "execution_count": null,
   "outputs": []
  },
  {
   "metadata": {
    "id": "gC-RSW9Y_BU3",
    "colab_type": "code",
    "colab": {},
    "pycharm": {
     "name": "#%%\n"
    }
   },
   "cell_type": "code",
   "source": [
    "args = {\"k\": training_args.growth_rate,\n",
    "        \"weight_decay\": training_args.l2_regularization,\n",
    "        \"num_outputs\": training_args.num_outputs,\n",
    "        \"units_per_block\": training_args.units_per_block,\n",
    "        \"momentum\": training_args.momentum,\n",
    "        \"epsilon\": training_args.epsilon,\n",
    "        \"initial_pool\": training_args.initial_pool}\n",
    "\n",
    "model = DenseNet(**args)"
   ],
   "execution_count": null,
   "outputs": []
  },
  {
   "metadata": {
    "id": "uJAEAO4F_BU5",
    "colab_type": "code",
    "colab": {},
    "pycharm": {
     "name": "#%%\n"
    }
   },
   "cell_type": "code",
   "source": [
    "checkpoint_prefix = os.path.join(checkpoint_dir, \"ckpt\")\n",
    "root = tfe.Checkpoint(model=model,\n",
    "                      optimizer_step=tf.train.get_or_create_global_step())\n",
    "\n",
    "try:\n",
    "    root.restore(tf.train.latest_checkpoint(checkpoint_dir))\n",
    "    print(\"Model {} successfully loaded.\".format(model_id))\n",
    "except:\n",
    "    print(\"Error loading model: {}\".format(FLAGS.model_id))"
   ],
   "execution_count": null,
   "outputs": []
  },
  {
   "metadata": {
    "id": "6EPImRWJ_BU7",
    "colab_type": "code",
    "colab": {},
    "pycharm": {
     "name": "#%%\n"
    }
   },
   "cell_type": "code",
   "source": [
    "mean_similarity = []\n",
    "mean_dissimilarity = []\n",
    "\n",
    "for (batch, (Xi, Xj, label)) in enumerate(test_dataset):\n",
    "\n",
    "    with tf.contrib.summary.record_summaries_every_n_global_steps(100):\n",
    "\n",
    "        GX1 = model(Xi, training=False)\n",
    "        GX2 = model(Xj, training=False)\n",
    "        _, Dw = contrastive_loss(GX1, GX2, label, margin=2.)\n",
    "\n",
    "        f, axarr = plt.subplots(2, 8, figsize=(16,4))\n",
    "        f.subplots_adjust(hspace=0.3)\n",
    "\n",
    "        for i in range(label.shape[0]):\n",
    "\n",
    "            Si = denormalize(Xi[i]).numpy()\n",
    "            Sj = denormalize(Xj[i]).numpy()\n",
    "\n",
    "            if label[i].numpy() == 0:\n",
    "                mean_similarity.append(Dw[i])\n",
    "            else:\n",
    "                mean_dissimilarity.append(Dw[i])\n",
    "\n",
    "            axarr[0, i].set_title('Sim: ' + str(Dw[i].numpy()))\n",
    "            axarr[0,i].imshow(np.squeeze(Si))\n",
    "            axarr[0,i].set_axis_off()\n",
    "\n",
    "            axarr[1,i].set_title(\"Label: \" + str(label[i].numpy()))\n",
    "            axarr[1,i].imshow(np.squeeze(Sj))\n",
    "            axarr[1,i].set_axis_off()\n",
    "\n",
    "        plt.show()\n",
    "\n",
    "mean_std_similarity_np = np.std(mean_similarity)\n",
    "mean_std_dissimilarity_np = np.std(mean_dissimilarity)\n",
    "mean_similarity_np = np.mean(mean_similarity)\n",
    "mean_dissimilarity_np = np.mean(mean_dissimilarity)\n",
    "\n",
    "print(\"Mean similarity {0} Mean Std: {1}.\".format(mean_similarity_np, mean_std_similarity_np))\n",
    "print(\"Mean dissimilarity {0} Mean Std: {1}.\".format(mean_dissimilarity_np, mean_std_dissimilarity_np))"
   ],
   "execution_count": null,
   "outputs": []
  },
  {
   "metadata": {
    "id": "JSZuVK6B_BU9",
    "colab_type": "code",
    "colab": {},
    "pycharm": {
     "name": "#%%\n"
    }
   },
   "cell_type": "code",
   "source": [],
   "execution_count": null,
   "outputs": []
  }
 ]
}